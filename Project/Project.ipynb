{
 "cells": [
  {
   "cell_type": "markdown",
   "metadata": {},
   "source": [
    "# Textual Analysis of Twitter Feeds For Financial Companies\n",
    "### Group Project for Introduction to Data Science\n",
    "Group Members:\n",
    "1. Zeyu Meng  \n",
    "2. Xi Mei   \n",
    "3. Siddharth Uppal       \n"
   ]
  },
  {
   "cell_type": "markdown",
   "metadata": {},
   "source": [
    "## Introduction:\n",
    "- The central business problem is to understand and monitor in the stock prices of various bank institutions using developments via twitter feeds. \n",
    "- Many companies are interested in monitor their interests to gain exponential returns on their investments. Twitter is one of the platforms where the news spreads like fire. \n",
    "- Companies need to tap into incoming news/twitter feeds  to understand what developments can influence their investments. \n",
    "- FinTech companies can track important positive and negative twitter feeds to save their interest.  "
   ]
  },
  {
   "cell_type": "markdown",
   "metadata": {},
   "source": [
    "### Part 1: Loughran&McDonald dictionary\n",
    "- Import the Loughran&McDonald dictionary into a dataframe.\n",
    "- Build lists for each feature. The features include 'Negative', 'Positive', 'Modal1', etc.in Loughran&McDonald dictionary"
   ]
  },
  {
   "cell_type": "code",
   "execution_count": 1,
   "metadata": {
    "collapsed": false
   },
   "outputs": [
    {
     "data": {
      "text/html": [
       "<div>\n",
       "<table border=\"1\" class=\"dataframe\">\n",
       "  <thead>\n",
       "    <tr style=\"text-align: right;\">\n",
       "      <th></th>\n",
       "      <th>Word</th>\n",
       "      <th>Sequence Number</th>\n",
       "      <th>Word Count</th>\n",
       "      <th>Word Proportion</th>\n",
       "      <th>Average Proportion</th>\n",
       "      <th>Std Dev</th>\n",
       "      <th>Doc Count</th>\n",
       "      <th>Negative</th>\n",
       "      <th>Positive</th>\n",
       "      <th>Uncertainty</th>\n",
       "      <th>Litigious</th>\n",
       "      <th>Constraining</th>\n",
       "      <th>Superfluous</th>\n",
       "      <th>Interesting</th>\n",
       "      <th>Modal</th>\n",
       "      <th>Irr_Verb</th>\n",
       "      <th>Harvard_IV</th>\n",
       "      <th>Syllables</th>\n",
       "      <th>Source</th>\n",
       "    </tr>\n",
       "  </thead>\n",
       "  <tbody>\n",
       "    <tr>\n",
       "      <th>0</th>\n",
       "      <td>AARDVARK</td>\n",
       "      <td>1</td>\n",
       "      <td>81</td>\n",
       "      <td>5.690000e-09</td>\n",
       "      <td>3.070000e-09</td>\n",
       "      <td>5.780000e-07</td>\n",
       "      <td>45</td>\n",
       "      <td>0</td>\n",
       "      <td>0</td>\n",
       "      <td>0</td>\n",
       "      <td>0</td>\n",
       "      <td>0</td>\n",
       "      <td>0</td>\n",
       "      <td>0</td>\n",
       "      <td>0</td>\n",
       "      <td>0</td>\n",
       "      <td>0</td>\n",
       "      <td>2</td>\n",
       "      <td>12of12inf</td>\n",
       "    </tr>\n",
       "    <tr>\n",
       "      <th>1</th>\n",
       "      <td>AARDVARKS</td>\n",
       "      <td>2</td>\n",
       "      <td>2</td>\n",
       "      <td>1.400000e-10</td>\n",
       "      <td>8.220000e-12</td>\n",
       "      <td>7.840000e-09</td>\n",
       "      <td>1</td>\n",
       "      <td>0</td>\n",
       "      <td>0</td>\n",
       "      <td>0</td>\n",
       "      <td>0</td>\n",
       "      <td>0</td>\n",
       "      <td>0</td>\n",
       "      <td>0</td>\n",
       "      <td>0</td>\n",
       "      <td>0</td>\n",
       "      <td>0</td>\n",
       "      <td>2</td>\n",
       "      <td>12of12inf</td>\n",
       "    </tr>\n",
       "    <tr>\n",
       "      <th>2</th>\n",
       "      <td>ABACI</td>\n",
       "      <td>3</td>\n",
       "      <td>8</td>\n",
       "      <td>5.620000e-10</td>\n",
       "      <td>1.690000e-10</td>\n",
       "      <td>7.100000e-08</td>\n",
       "      <td>7</td>\n",
       "      <td>0</td>\n",
       "      <td>0</td>\n",
       "      <td>0</td>\n",
       "      <td>0</td>\n",
       "      <td>0</td>\n",
       "      <td>0</td>\n",
       "      <td>0</td>\n",
       "      <td>0</td>\n",
       "      <td>0</td>\n",
       "      <td>0</td>\n",
       "      <td>3</td>\n",
       "      <td>12of12inf</td>\n",
       "    </tr>\n",
       "    <tr>\n",
       "      <th>3</th>\n",
       "      <td>ABACK</td>\n",
       "      <td>4</td>\n",
       "      <td>5</td>\n",
       "      <td>3.510000e-10</td>\n",
       "      <td>1.730000e-10</td>\n",
       "      <td>7.530000e-08</td>\n",
       "      <td>5</td>\n",
       "      <td>0</td>\n",
       "      <td>0</td>\n",
       "      <td>0</td>\n",
       "      <td>0</td>\n",
       "      <td>0</td>\n",
       "      <td>0</td>\n",
       "      <td>0</td>\n",
       "      <td>0</td>\n",
       "      <td>0</td>\n",
       "      <td>0</td>\n",
       "      <td>2</td>\n",
       "      <td>12of12inf</td>\n",
       "    </tr>\n",
       "    <tr>\n",
       "      <th>4</th>\n",
       "      <td>ABACUS</td>\n",
       "      <td>5</td>\n",
       "      <td>1752</td>\n",
       "      <td>1.230000e-07</td>\n",
       "      <td>1.200000e-07</td>\n",
       "      <td>1.110000e-05</td>\n",
       "      <td>465</td>\n",
       "      <td>0</td>\n",
       "      <td>0</td>\n",
       "      <td>0</td>\n",
       "      <td>0</td>\n",
       "      <td>0</td>\n",
       "      <td>0</td>\n",
       "      <td>0</td>\n",
       "      <td>0</td>\n",
       "      <td>0</td>\n",
       "      <td>0</td>\n",
       "      <td>3</td>\n",
       "      <td>12of12inf</td>\n",
       "    </tr>\n",
       "  </tbody>\n",
       "</table>\n",
       "</div>"
      ],
      "text/plain": [
       "        Word  Sequence Number  Word Count  Word Proportion  \\\n",
       "0   AARDVARK                1          81     5.690000e-09   \n",
       "1  AARDVARKS                2           2     1.400000e-10   \n",
       "2      ABACI                3           8     5.620000e-10   \n",
       "3      ABACK                4           5     3.510000e-10   \n",
       "4     ABACUS                5        1752     1.230000e-07   \n",
       "\n",
       "   Average Proportion       Std Dev  Doc Count  Negative  Positive  \\\n",
       "0        3.070000e-09  5.780000e-07         45         0         0   \n",
       "1        8.220000e-12  7.840000e-09          1         0         0   \n",
       "2        1.690000e-10  7.100000e-08          7         0         0   \n",
       "3        1.730000e-10  7.530000e-08          5         0         0   \n",
       "4        1.200000e-07  1.110000e-05        465         0         0   \n",
       "\n",
       "   Uncertainty  Litigious  Constraining  Superfluous  Interesting  Modal  \\\n",
       "0            0          0             0            0            0      0   \n",
       "1            0          0             0            0            0      0   \n",
       "2            0          0             0            0            0      0   \n",
       "3            0          0             0            0            0      0   \n",
       "4            0          0             0            0            0      0   \n",
       "\n",
       "   Irr_Verb  Harvard_IV  Syllables     Source  \n",
       "0         0           0          2  12of12inf  \n",
       "1         0           0          2  12of12inf  \n",
       "2         0           0          3  12of12inf  \n",
       "3         0           0          2  12of12inf  \n",
       "4         0           0          3  12of12inf  "
      ]
     },
     "execution_count": 1,
     "metadata": {},
     "output_type": "execute_result"
    }
   ],
   "source": [
    "import pandas as pd\n",
    "dictionary=pd.read_csv(\"Dictionary.csv\")\n",
    "\n",
    "Negative=list(dictionary[dictionary.Negative>0][\"Word\"])\n",
    "Positive=list(dictionary[dictionary.Positive>0][\"Word\"])\n",
    "Uncertainty=list(dictionary[dictionary.Uncertainty>0][\"Word\"])\n",
    "Litigious=list(dictionary[dictionary.Litigious>0][\"Word\"])\n",
    "Constraining=list(dictionary[dictionary.Constraining>0][\"Word\"])\n",
    "Superfluous=list(dictionary[dictionary.Superfluous>0][\"Word\"])\n",
    "Interesting=list(dictionary[dictionary.Interesting>0][\"Word\"])\n",
    "Modal1=list(dictionary[dictionary.Modal==1][\"Word\"])\n",
    "Modal2=list(dictionary[dictionary.Modal==2][\"Word\"])\n",
    "Modal3=list(dictionary[dictionary.Modal==3][\"Word\"])\n",
    "\n",
    "dictionary.head()"
   ]
  },
  {
   "cell_type": "markdown",
   "metadata": {},
   "source": [
    " ### Part 2: Twitter's Data\n",
    "- Download Twitter's data from Twitter's API into a database built by us.\n",
    "- Query the database and count the number of each features for each piece of tweet during a period of time. "
   ]
  },
  {
   "cell_type": "code",
   "execution_count": 2,
   "metadata": {
    "collapsed": false
   },
   "outputs": [],
   "source": [
    "import numpy as np\n",
    "import urllib\n",
    "import datetime as dt\n",
    "import matplotlib.pyplot as plt\n",
    "import re\n",
    "from datetime import datetime\n",
    "from elasticsearch import Elasticsearch\n",
    "es = Elasticsearch([\"http://search-banktweets-oe3qkimmg7aavxn2djiwrm5bi4.us-east-1.es.amazonaws.com:80\"])\n",
    "\n",
    "#This function is just used to transfer time stamp into standard time.\n",
    "def timetransfer(ts):\n",
    "    return datetime.fromtimestamp(ts/1000+600).strftime('%Y-%m-%d %H:%M:%S')\n",
    "\n",
    "def get_twitter_data(banksname):\n",
    "    \n",
    "    #Query twitters data from a database. \n",
    "    res=es.search(index=\"banktweets\", doc_type=\"tweets\",scroll=\"1m\",body={\"from\":0, \"size\":100, \"query\": {\"match\": {\"text\":banksname}}})\n",
    "    scrollId=res[\"_scroll_id\"]\n",
    "    dataset=[]\n",
    "    scrollres=es.scroll(scroll_id=scrollId,scroll=\"1m\") \n",
    "    \n",
    "    #Count the number of each features for each piece of tweet during a period of time. \n",
    "    while( len(scrollres[\"hits\"][\"hits\"])>0):    \n",
    "        for hit in scrollres['hits']['hits']:\n",
    "            neg,pos,unc,lit,con,sup,intr,mod1,mod2,mod3=0,0,0,0,0,0,0,0,0,0\n",
    "            p = re.compile(\"[^a-zA-Z]?\")\n",
    "            stringArray=p.split(hit[\"_source\"][\"text\"])\n",
    "            for word in stringArray:\n",
    "                WORD=word.upper()\n",
    "                if WORD in Negative: neg=neg+1\n",
    "                if WORD in Positive: pos=pos+1\n",
    "                if WORD in Uncertainty: unc=unc+1\n",
    "                if WORD in Litigious: lit=lit+1\n",
    "                if WORD in Constraining: con=con+1\n",
    "                if WORD in Superfluous: sup=sup+1\n",
    "                if WORD in Interesting: intr=intr+1\n",
    "                if WORD in Modal1: mod1=mod1+1\n",
    "                if WORD in Modal2: mod2=mod2+1\n",
    "                if WORD in Modal3: mod3=mod3+1\n",
    "            array=[hit[\"_source\"][\"time\"],neg,pos,unc,lit,con,sup,intr,mod1,mod2,mod3]\n",
    "            dataset.append(array)\n",
    "        scrollres=es.scroll(scroll_id=scrollId,scroll=\"1m\")\n",
    "    df=pd.DataFrame(dataset,columns=['timestamp','neg', 'pos', 'unc', 'lit', 'con','sup','intr','Mod1','Mod2','Mod3'])\n",
    "    \n",
    "    #Transfer the timestamp into standard time\n",
    "    df[\"time\"]=df[\"timestamp\"].map(lambda t:timetransfer(t))\n",
    "    \n",
    "    #Sum up the number of each feature for all tweets in each period with a fixed time range.\n",
    "    df=df.set_index(pd.DatetimeIndex(df['time'])).sort_index().drop(\"timestamp\",axis=1)\n",
    "    df[\"count\"]=1\n",
    "    df=df.resample(\"5T\").sum()\n",
    "    return df"
   ]
  },
  {
   "cell_type": "markdown",
   "metadata": {},
   "source": [
    " ### Part 3: Google Finance's Data\n",
    "- Query Google Fiance's data online, which include open prices, highest prices, lowest prices, close prices, volumes of stocks during one particular moment.\n",
    "- Compile Google Fiance's data and prepare them for matching with Twitter's data. "
   ]
  },
  {
   "cell_type": "code",
   "execution_count": 3,
   "metadata": {
    "collapsed": true
   },
   "outputs": [],
   "source": [
    "def get_google_data(symbol, period, window):\n",
    "    url_root = 'http://www.google.com/finance/getprices?i='\n",
    "    url_root += str(period) + '&p=' + str(window)\n",
    "    url_root += 'd&f=d,o,h,l,c,v&df=cpct&q=' + symbol\n",
    "    response = urllib.request.urlopen(url_root)\n",
    "    data = str(response.read()).split('\\\\n')\n",
    "    #actual data starts at index = 7\n",
    "    #first line contains full timestamp,\n",
    "    #every other line is offset of period from timestamp\n",
    "    parsed_data = []\n",
    "    anchor_stamp = ''\n",
    "    end = len(data)\n",
    "    for i in range(7, end):\n",
    "        cdata = data[i].split(',')\n",
    "        if 'a' in cdata[0]:\n",
    "    #first one record anchor timestamp\n",
    "            anchor_stamp = cdata[0].replace('a', '')\n",
    "            cts = int(anchor_stamp)\n",
    "        else:\n",
    "            try:\n",
    "                coffset = int(cdata[0])\n",
    "                cts = int(anchor_stamp) + (coffset * period)\n",
    "                parsed_data.append((dt.datetime.fromtimestamp(float(cts)), float(cdata[1]), float(cdata[2]), float(cdata[3]), float(cdata[4]), float(cdata[5])))\n",
    "            except:\n",
    "                pass # for time zone offsets thrown into data\n",
    "    df = pd.DataFrame(parsed_data)\n",
    "    df.columns = ['ts', 'o', 'h', 'l', 'c', 'v']\n",
    "    df.index = df.ts\n",
    "    del df['ts']\n",
    "    return df "
   ]
  },
  {
   "cell_type": "markdown",
   "metadata": {},
   "source": [
    " ### Part 4: Matching Google Finance's Data with Tiwtter's Data\n",
    "- Set the target values as 'close prices minus open prices' for each company's stocks during a particular moment. \n",
    "- Transfer the target values into binary. 1 means increase and 0 means either decrease or netural."
   ]
  },
  {
   "cell_type": "code",
   "execution_count": 4,
   "metadata": {
    "collapsed": false
   },
   "outputs": [
    {
     "name": "stderr",
     "output_type": "stream",
     "text": [
      "E:\\Study\\Python\\Anaconda03\\lib\\site-packages\\ipykernel\\__main__.py:27: FutureWarning: split() requires a non-empty pattern match.\n"
     ]
    }
   ],
   "source": [
    "Banksname={'Bank of America':'BAC','CitiGroup':'C','Goldman Sachs':'GS',\n",
    "           'JPMorgan Chase':'JPM','Morgan Stanley':'MS','Wells Fargo':'WFC'}\n",
    "Banksdata=dict()\n",
    "\n",
    "def binary(v):\n",
    "    if(v>0):\n",
    "        return 1\n",
    "    else:\n",
    "        return 0\n",
    "    \n",
    "for name, symbol in Banksname.items():\n",
    "    Googledata=get_google_data(symbol, 300, 14)\n",
    "    Googledata[\"C-O\"]=Googledata[\"c\"]-Googledata[\"o\"]\n",
    "    #Set the target values as 'close prices minus open prices' and Transfer the target values into binary.\n",
    "    Googledata[\"Target\"]=Googledata[\"C-O\"].map(lambda t:binary(t))\n",
    "    Twitterdata=get_twitter_data(name)\n",
    "    Bankdata=Googledata.join(Twitterdata,how=\"left\").dropna().drop([\"o\",\"h\",\"l\",\"c\",\"v\",\"C-O\"],axis=1)\n",
    "    Banksdata[name]=Bankdata"
   ]
  },
  {
   "cell_type": "markdown",
   "metadata": {},
   "source": [
    " ### Part 5: Model Fitting\n",
    " - Shuffle organized data and kfold them for k=5.\n",
    " - Fit the data to DecisionTree, LogisticRegression and SVC models.\n",
    " - Plot them up and see the AUC results for each of them."
   ]
  },
  {
   "cell_type": "markdown",
   "metadata": {},
   "source": [
    "- DecisionTree"
   ]
  },
  {
   "cell_type": "code",
   "execution_count": 61,
   "metadata": {
    "collapsed": false
   },
   "outputs": [
    {
     "data": {
      "image/png": "[encoded data removed]",
      "text/plain": [
       "<matplotlib.figure.Figure at 0x223110826d8>"
      ]
     },
     "metadata": {},
     "output_type": "display_data"
    }
   ],
   "source": [
    "from sklearn.grid_search import GridSearchCV\n",
    "from sklearn.cross_validation import KFold\n",
    "from sklearn.tree import DecisionTreeClassifier\n",
    "from sklearn.tree import export_graphviz\n",
    "from sklearn.metrics import confusion_matrix, roc_auc_score\n",
    "import matplotlib\n",
    "import matplotlib.pyplot as plt\n",
    "%matplotlib inline\n",
    "\n",
    "results_AUC=dict()\n",
    "\n",
    "#This is our items of parameters and their ranges.  \n",
    "param_grid_dt = {'min_samples_split':[20*i for i in range(1, 10)], 'min_samples_leaf':[i*2 for i in range(1, 10)],'criterion':['entropy','gini']}\n",
    "\n",
    "for name,data in Banksdata.items():\n",
    "    data_shuf=data.reindex(np.random.permutation(data.index))\n",
    "    kfolds = KFold(data_shuf.shape[0], n_folds = 5)\n",
    "    X=data_shuf.drop('Target', 1)\n",
    "    Y=data_shuf['Target']\n",
    "    dt_grid_search = GridSearchCV(DecisionTreeClassifier(), param_grid_dt, cv = kfolds, scoring = 'roc_auc') \n",
    "    dt_grid_search.fit(X, Y)\n",
    "    results_AUC[name]= dt_grid_search.best_score_\n",
    "\n",
    "#Plot the results.    \n",
    "fig, ax = plt.subplots()\n",
    "width = 0.35\n",
    "\n",
    "ax.bar(np.arange(6), results_AUC.values(), width, color = 'r')\n",
    "ax.set_xticks(np.arange(len(results_AUC.keys())))\n",
    "ax.set_xticklabels(results_AUC.keys(), rotation = 90)\n",
    "plt.title('DecisionTree Model Fitting Results')\n",
    "ax.set_ylabel('AUC Values') \n",
    "for i, v in enumerate(results_AUC.values()):\n",
    "    ax.text(i-0.25 , v+0.01, str(round(v, 3)), color='r')"
   ]
  },
  {
   "cell_type": "markdown",
   "metadata": {},
   "source": [
    "- LogisticRegression"
   ]
  },
  {
   "cell_type": "code",
   "execution_count": 62,
   "metadata": {
    "collapsed": false
   },
   "outputs": [
    {
     "data": {
      "image/png": "[encoded data removed]",
      "text/plain": [
       "<matplotlib.figure.Figure at 0x2230c0b7080>"
      ]
     },
     "metadata": {},
     "output_type": "display_data"
    }
   ],
   "source": [
    "from sklearn.linear_model import LogisticRegression\n",
    "%matplotlib inline\n",
    "\n",
    "results_AUC=dict()\n",
    "\n",
    "#This is our items of parameters and their ranges.  \n",
    "param_grid_lr = {'C':[10**i for i in range(-10, 10)], 'penalty':['l1','l2']}\n",
    "\n",
    "for name,data in Banksdata.items():\n",
    "    data_shuf=data.reindex(np.random.permutation(data.index))\n",
    "    kfolds = KFold(data_shuf.shape[0], n_folds = 5)\n",
    "    X=data_shuf.drop('Target', 1)\n",
    "    Y=data_shuf['Target']\n",
    "    lr_grid_search = GridSearchCV(LogisticRegression(), param_grid_lr, cv = kfolds, scoring = 'roc_auc') \n",
    "    lr_grid_search.fit(X, Y)\n",
    "    results_AUC[name]= lr_grid_search.best_score_\n",
    "\n",
    "#Plot the results.\n",
    "fig, ax = plt.subplots()\n",
    "width = 0.35\n",
    "\n",
    "ax.bar(np.arange(6), results_AUC.values(), width, color = 'blue')\n",
    "ax.set_xticks(np.arange(len(results_AUC.keys())))\n",
    "ax.set_xticklabels(results_AUC.keys(), rotation = 90)\n",
    "plt.title('LogisticRegression Model Fitting Results')\n",
    "ax.set_ylabel('AUC Values')\n",
    "for i, v in enumerate(results_AUC.values()):\n",
    "    ax.text(i-0.25 , v+0.01, str(round(v, 3)), color='blue')"
   ]
  },
  {
   "cell_type": "markdown",
   "metadata": {},
   "source": [
    "- SVC"
   ]
  },
  {
   "cell_type": "code",
   "execution_count": 63,
   "metadata": {
    "collapsed": false
   },
   "outputs": [
    {
     "data": {
      "image/png": "[encoded data removed]",
      "text/plain": [
       "<matplotlib.figure.Figure at 0x22311210710>"
      ]
     },
     "metadata": {},
     "output_type": "display_data"
    }
   ],
   "source": [
    "from sklearn.svm import SVC\n",
    "%matplotlib inline\n",
    "\n",
    "results_AUC=dict()\n",
    "\n",
    "#This is our items of parameters and their ranges.  \n",
    "param_grid_svc = {'C':[10**i for i in range(-3, 3)], 'kernel':['linear']}\n",
    "\n",
    "for name,data in Banksdata.items():\n",
    "    data_shuf=data.reindex(np.random.permutation(data.index))\n",
    "    kfolds = KFold(data_shuf.shape[0], n_folds = 5)\n",
    "    X=data_shuf.drop('Target', 1)\n",
    "    Y=data_shuf['Target']\n",
    "    svc_grid_search = GridSearchCV(SVC(), param_grid_svc, cv = kfolds, scoring = 'roc_auc') \n",
    "    svc_grid_search.fit(X, Y)\n",
    "    results_AUC[name]= svc_grid_search.best_score_\n",
    "\n",
    "#Plot the results.\n",
    "fig, ax = plt.subplots()\n",
    "width = 0.35\n",
    "\n",
    "ax.bar(np.arange(6), results_AUC.values(), width, color = 'green')\n",
    "ax.set_xticks(np.arange(len(results_AUC.keys())))\n",
    "ax.set_xticklabels(results_AUC.keys(), rotation = 90)\n",
    "plt.title('SVC Model Fitting Results')\n",
    "ax.set_ylabel('AUC Values')\n",
    "for i, v in enumerate(results_AUC.values()):\n",
    "    ax.text(i-0.25 , v+0.01, str(round(v, 3)), color='green')"
   ]
  },
  {
   "cell_type": "markdown",
   "metadata": {},
   "source": [
    "### Part 6: Model Fitting for Top3 Important Features\n",
    " - Work out the top3 important features by DecisionTree model based on 'Bank of America' data.\n",
    " - Repeat Part 5 once again with only top3 important features."
   ]
  },
  {
   "cell_type": "code",
   "execution_count": 67,
   "metadata": {
    "collapsed": false
   },
   "outputs": [
    {
     "name": "stdout",
     "output_type": "stream",
     "text": [
      "DecisionTreeClassifier(class_weight=None, criterion='entropy', max_depth=None,\n",
      "            max_features=None, max_leaf_nodes=None,\n",
      "            min_impurity_split=1e-07, min_samples_leaf=2,\n",
      "            min_samples_split=20, min_weight_fraction_leaf=0.0,\n",
      "            presort=False, random_state=None, splitter='best')\n",
      "Best_score=0.5331556142313822\n"
     ]
    }
   ],
   "source": [
    "Data=Banksdata['Bank of America']\n",
    "Data_shuf=Data.reindex(np.random.permutation(Data.index))\n",
    "kfolds = KFold(Data_shuf.shape[0], n_folds = 5)\n",
    "X = Data_shuf.drop('Target', 1)\n",
    "Y = Data_shuf['Target']\n",
    "\n",
    "dt_grid_search = GridSearchCV(DecisionTreeClassifier(), param_grid_dt, cv = kfolds, scoring = 'roc_auc') \n",
    "dt_grid_search.fit(X, Y)\n",
    "print(dt_grid_search.best_estimator_)\n",
    "print('Best_score={}'.format(dt_grid_search.best_score_))"
   ]
  },
  {
   "cell_type": "code",
   "execution_count": 68,
   "metadata": {
    "collapsed": false
   },
   "outputs": [
    {
     "data": {
      "image/png": "[encoded data removed]",
      "text/plain": [
       "<matplotlib.figure.Figure at 0x2230e232908>"
      ]
     },
     "metadata": {},
     "output_type": "display_data"
    }
   ],
   "source": [
    "import matplotlib.pyplot as plt\n",
    "%matplotlib inline\n",
    "fig, ax = plt.subplots()\n",
    "width = 0.35\n",
    "\n",
    "clf = DecisionTreeClassifier(criterion='entropy',min_samples_split=20,min_samples_leaf=2)\n",
    "clf = clf.fit(X,Y)\n",
    "\n",
    "ax.bar(np.arange(11), clf.feature_importances_, width, color = 'r')\n",
    "ax.set_xticks(np.arange(len(clf.feature_importances_)))\n",
    "ax.set_xticklabels(X.columns.values, rotation = 90)\n",
    "plt.title('Feature Importance from DT')\n",
    "ax.set_ylabel('Normalized Gini Importance')\n",
    "for i, v in enumerate(clf.feature_importances_):\n",
    "    ax.text(i-0.4 , v+0.005, str(round(v, 2)), color='r')"
   ]
  },
  {
   "cell_type": "markdown",
   "metadata": {},
   "source": [
    "- DecisionTree with Top3 Important Features"
   ]
  },
  {
   "cell_type": "code",
   "execution_count": 69,
   "metadata": {
    "collapsed": false
   },
   "outputs": [
    {
     "data": {
      "image/png": "[encoded data removed]",
      "text/plain": [
       "<matplotlib.figure.Figure at 0x2231133bc50>"
      ]
     },
     "metadata": {},
     "output_type": "display_data"
    }
   ],
   "source": [
    "%matplotlib inline\n",
    "\n",
    "results_AUC=dict()\n",
    "\n",
    "for name,data in Banksdata.items():\n",
    "    data_shuf=data.reindex(np.random.permutation(data.index))\n",
    "    kfolds = KFold(data_shuf.shape[0], n_folds = 5)\n",
    "    X=data_shuf[['neg','count','lit']]\n",
    "    Y=data_shuf['Target']\n",
    "    dt_grid_search = GridSearchCV(DecisionTreeClassifier(), param_grid_dt, cv = kfolds, scoring = 'roc_auc') \n",
    "    dt_grid_search.fit(X, Y)\n",
    "    results_AUC[name]= dt_grid_search.best_score_\n",
    "\n",
    "fig, ax = plt.subplots()\n",
    "width = 0.35\n",
    "\n",
    "ax.bar(np.arange(6), results_AUC.values(), width, color = 'r')\n",
    "ax.set_xticks(np.arange(len(results_AUC.keys())))\n",
    "ax.set_xticklabels(results_AUC.keys(), rotation = 90)\n",
    "plt.title('DecisionTree Model Fitting Results with Top3 Features')\n",
    "ax.set_ylabel('AUC Values') \n",
    "for i, v in enumerate(results_AUC.values()):\n",
    "    ax.text(i-0.25 , v+0.01, str(round(v, 3)), color='r')"
   ]
  },
  {
   "cell_type": "markdown",
   "metadata": {},
   "source": [
    "- LogisticRegression with Top3 Important Features"
   ]
  },
  {
   "cell_type": "code",
   "execution_count": 70,
   "metadata": {
    "collapsed": false
   },
   "outputs": [
    {
     "data": {
      "image/png": "[encoded data removed]",
      "text/plain": [
       "<matplotlib.figure.Figure at 0x223113341d0>"
      ]
     },
     "metadata": {},
     "output_type": "display_data"
    }
   ],
   "source": [
    "%matplotlib inline\n",
    "\n",
    "results_AUC=dict()\n",
    "\n",
    "for name,data in Banksdata.items():\n",
    "    data_shuf=data.reindex(np.random.permutation(data.index))\n",
    "    kfolds = KFold(data_shuf.shape[0], n_folds = 5)\n",
    "    X=data_shuf[['neg','count','lit']]\n",
    "    Y=data_shuf['Target']\n",
    "    lr_grid_search = GridSearchCV(LogisticRegression(), param_grid_lr, cv = kfolds, scoring = 'roc_auc') \n",
    "    lr_grid_search.fit(X, Y)\n",
    "    results_AUC[name]= lr_grid_search.best_score_\n",
    "\n",
    "fig, ax = plt.subplots()\n",
    "width = 0.35\n",
    "\n",
    "ax.bar(np.arange(6), results_AUC.values(), width, color = 'blue')\n",
    "ax.set_xticks(np.arange(len(results_AUC.keys())))\n",
    "ax.set_xticklabels(results_AUC.keys(), rotation = 90)\n",
    "plt.title('DecisionTree Model Fitting Results with Top3 Features')\n",
    "ax.set_ylabel('AUC Values') \n",
    "for i, v in enumerate(results_AUC.values()):\n",
    "    ax.text(i-0.25 , v+0.01, str(round(v, 3)), color='blue')"
   ]
  },
  {
   "cell_type": "markdown",
   "metadata": {},
   "source": [
    "- SVC with Top3 Important Features"
   ]
  },
  {
   "cell_type": "code",
   "execution_count": 71,
   "metadata": {
    "collapsed": false
   },
   "outputs": [
    {
     "data": {
      "image/png": "[encoded data removed]",
      "text/plain": [
       "<matplotlib.figure.Figure at 0x223112102e8>"
      ]
     },
     "metadata": {},
     "output_type": "display_data"
    }
   ],
   "source": [
    "%matplotlib inline\n",
    "\n",
    "results_AUC=dict()\n",
    "\n",
    "for name,data in Banksdata.items():\n",
    "    data_shuf=data.reindex(np.random.permutation(data.index))\n",
    "    kfolds = KFold(data_shuf.shape[0], n_folds = 5)\n",
    "    X=data_shuf[['neg','count','lit']]\n",
    "    Y=data_shuf['Target']\n",
    "    svc_grid_search = GridSearchCV(SVC(), param_grid_svc, cv = kfolds, scoring = 'roc_auc') \n",
    "    svc_grid_search.fit(X, Y)\n",
    "    results_AUC[name]= svc_grid_search.best_score_\n",
    "\n",
    "fig, ax = plt.subplots()\n",
    "width = 0.35\n",
    "\n",
    "ax.bar(np.arange(6), results_AUC.values(), width, color = 'green')\n",
    "ax.set_xticks(np.arange(len(results_AUC.keys())))\n",
    "ax.set_xticklabels(results_AUC.keys(), rotation = 90)\n",
    "plt.title('SVC Model Fitting Results with Top3 Features')\n",
    "ax.set_ylabel('AUC Values')    \n",
    "for i, v in enumerate(results_AUC.values()):\n",
    "    ax.text(i-0.25 , v+0.01, str(round(v, 3)), color='green')"
   ]
  },
  {
   "cell_type": "markdown",
   "metadata": {},
   "source": [
    "### Part 7: Combining All Banks' Data\n",
    " - Combine all banks' data in one dataframe.\n",
    " - Use these three models to fit the combined data."
   ]
  },
  {
   "cell_type": "code",
   "execution_count": 72,
   "metadata": {
    "collapsed": false
   },
   "outputs": [
    {
     "name": "stdout",
     "output_type": "stream",
     "text": [
      "Best Score for DecisionTree is 0.5117453350355196\n"
     ]
    }
   ],
   "source": [
    "df_bank=pd.DataFrame()\n",
    "for name,data in Banksdata.items():\n",
    "    df_bank=df_bank.append(data,ignore_index=True)\n",
    "data_shuf=df_bank.reindex(np.arange(len(df_bank.index)))\n",
    "data_shuf=df_bank.reindex(np.random.permutation(df_bank.index))\n",
    "kfolds = KFold(data_shuf.shape[0], n_folds = 5)\n",
    "X = data_shuf.drop('Target', 1)\n",
    "Y = data_shuf['Target']\n",
    "\n",
    "dt_grid_search = GridSearchCV(DecisionTreeClassifier(), param_grid_dt, cv = kfolds, scoring = 'roc_auc') \n",
    "dt_grid_search.fit(X, Y)\n",
    "print('Best Score for DecisionTree is {}'.format(dt_grid_search.best_score_))"
   ]
  },
  {
   "cell_type": "code",
   "execution_count": 73,
   "metadata": {
    "collapsed": false
   },
   "outputs": [
    {
     "name": "stdout",
     "output_type": "stream",
     "text": [
      "Best Score for LogisticRegression is 0.5\n"
     ]
    }
   ],
   "source": [
    "lr_grid_search = GridSearchCV(LogisticRegression(), param_grid_lr, cv = kfolds, scoring = 'roc_auc') \n",
    "lr_grid_search.fit(X, Y)\n",
    "print('Best Score for LogisticRegression is {}'.format(lr_grid_search.best_score_))"
   ]
  },
  {
   "cell_type": "code",
   "execution_count": 74,
   "metadata": {
    "collapsed": false
   },
   "outputs": [
    {
     "name": "stdout",
     "output_type": "stream",
     "text": [
      "Best Score for SVC is 0.4985581072653837\n"
     ]
    }
   ],
   "source": [
    "param_grid_svc = {'C':[10**i for i in range(-1, 1)], 'kernel':['linear']}\n",
    "\n",
    "svc_grid_search = GridSearchCV(SVC(), param_grid_svc, cv = kfolds, scoring = 'roc_auc') \n",
    "svc_grid_search.fit(X, Y)\n",
    "print('Best Score for SVC is {}'.format(svc_grid_search.best_score_))"
   ]
  },
  {
   "cell_type": "markdown",
   "metadata": {},
   "source": [
    "### Part 8: Combined Banks' Data With Only Top3 Important Features\n",
    " - Fit combined banks' data to models with only top3 important features."
   ]
  },
  {
   "cell_type": "code",
   "execution_count": 75,
   "metadata": {
    "collapsed": false
   },
   "outputs": [
    {
     "name": "stdout",
     "output_type": "stream",
     "text": [
      "Best Score for DecisionTree is 0.5129088095366596 for top3 important features\n"
     ]
    }
   ],
   "source": [
    "X=X[['neg','count','lit']]\n",
    "dt_grid_search = GridSearchCV(DecisionTreeClassifier(), param_grid_dt, cv = kfolds, scoring = 'roc_auc') \n",
    "dt_grid_search.fit(X, Y)\n",
    "print('Best Score for DecisionTree is {} for top3 important features'.format(dt_grid_search.best_score_))"
   ]
  },
  {
   "cell_type": "code",
   "execution_count": 76,
   "metadata": {
    "collapsed": false
   },
   "outputs": [
    {
     "name": "stdout",
     "output_type": "stream",
     "text": [
      "Best Score for LogisticRegression is 0.5 for top3 important features\n"
     ]
    }
   ],
   "source": [
    "lr_grid_search = GridSearchCV(LogisticRegression(), param_grid_lr, cv = kfolds, scoring = 'roc_auc') \n",
    "lr_grid_search.fit(X, Y)\n",
    "print('Best Score for LogisticRegression is {} for top3 important features'.format(lr_grid_search.best_score_))"
   ]
  },
  {
   "cell_type": "code",
   "execution_count": 77,
   "metadata": {
    "collapsed": false
   },
   "outputs": [
    {
     "name": "stdout",
     "output_type": "stream",
     "text": [
      "Best Score for SVC is 0.5008092303782022 for top3 important features\n"
     ]
    }
   ],
   "source": [
    "param_grid_svc = {'C':[10**i for i in range(-1, 1)], 'kernel':['linear']}\n",
    "\n",
    "svc_grid_search = GridSearchCV(SVC(), param_grid_svc, cv = kfolds, scoring = 'roc_auc') \n",
    "svc_grid_search.fit(X, Y)\n",
    "print('Best Score for SVC is {} for top3 important features'.format(svc_grid_search.best_score_))"
   ]
  },
  {
   "cell_type": "markdown",
   "metadata": {},
   "source": [
    "## Conclusion:\n",
    "![Screenshot](Excel File.png)\n",
    "- The yellow highlight part is the best fitting case for each bank.  Through the table showed above, we can conclude that for textual analysis of twitter feeds for financial companies, the statistically best method is to use all features fitting Logistic Regression model.\n",
    "- Our target value is binary. It’s either 0(prices go down or keep neutral) or 1(prices go up). The model solves the problems as it can give a binary estimated result based on tweets collected in a particular period of moment. The binary estimated result tells us whether the stock prices will go up or go down.  "
   ]
  },
  {
   "cell_type": "markdown",
   "metadata": {},
   "source": [
    "## Possible Further Improvements\n",
    "- The model’s accuracy depends on the size of the data set. Currently 263417+ tweets were used for the analysis of the models that can predict the stock prices of the banks that we were interested in. The larger the data set, larger duration of prediction by the models is required. \n",
    "- Besides that the financial dictionary needs to be updated regularly, whithout which some termalogies may cause offsetting of prediction models. \n",
    "- Furthermore, various combination of features can lead to different fitting results. Based on updated dictionaries, we can work out the best combination of features for model fitting. \n",
    "- Thus the further improvements could be increasing the size of data sets, updating the financial dictionary or using the best combination of features. "
   ]
  }
 ],
 "metadata": {
  "kernelspec": {
   "display_name": "Python 3",
   "language": "python",
   "name": "python3"
  },
  "language_info": {
   "codemirror_mode": {
    "name": "ipython",
    "version": 3
   },
   "file_extension": ".py",
   "mimetype": "text/x-python",
   "name": "python",
   "nbconvert_exporter": "python",
   "pygments_lexer": "ipython3",
   "version": "3.6.0"
  }
 },
 "nbformat": 4,
 "nbformat_minor": 2
}
